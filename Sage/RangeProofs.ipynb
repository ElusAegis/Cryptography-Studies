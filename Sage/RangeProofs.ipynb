{
 "cells": [
  {
   "cell_type": "markdown",
   "id": "fbb127d0",
   "metadata": {},
   "source": [
    "This is an implemintation of the algorithms described in the [article](https://zkproof.org/2021/05/05/hashwires-range-proofs-from-hash-functions/) on Range Proofs with Hash functions.\n",
    "\n",
    "We will explore the case where Alice wants to prove her age and uses the following approach to do so."
   ]
  },
  {
   "cell_type": "markdown",
   "id": "36171c3f",
   "metadata": {},
   "source": [
    "### Signing functionality"
   ]
  },
  {
   "cell_type": "code",
   "execution_count": 174,
   "id": "3b4fab8e",
   "metadata": {},
   "outputs": [],
   "source": [
    "from sage.crypto.util import carmichael_lambda\n",
    "from hashlib import sha256"
   ]
  },
  {
   "cell_type": "code",
   "execution_count": 175,
   "id": "7719793b",
   "metadata": {},
   "outputs": [],
   "source": [
    "prime1 = 7151\n",
    "prime2 = 8147\n",
    "assert is_prime(prime1)\n",
    "assert is_prime(prime2)\n",
    "group_s = prime1 * prime2"
   ]
  },
  {
   "cell_type": "code",
   "execution_count": 176,
   "id": "5bb28477",
   "metadata": {},
   "outputs": [],
   "source": [
    "lamb = carmichael_lambda(group_s)\n",
    "lambR = IntegerModRing(lamb)\n",
    "nR = IntegerModRing(group_s)"
   ]
  },
  {
   "cell_type": "code",
   "execution_count": 177,
   "id": "8b98a752",
   "metadata": {},
   "outputs": [],
   "source": [
    "def hash(m):\n",
    "    hex_hash = sha256(str(m).encode(\"utf-8\")).hexdigest()\n",
    "    return int(hex_hash, 16)"
   ]
  },
  {
   "cell_type": "markdown",
   "id": "a4df11bb",
   "metadata": {},
   "source": [
    "## Naive Hashchain"
   ]
  },
  {
   "cell_type": "code",
   "execution_count": 178,
   "id": "21e2f3bd",
   "metadata": {},
   "outputs": [],
   "source": [
    "import random\n",
    "\n",
    "random.seed(0)"
   ]
  },
  {
   "cell_type": "code",
   "execution_count": 179,
   "id": "47971b70",
   "metadata": {},
   "outputs": [],
   "source": [
    "# We need two collision resistant hash functions H0 and H1\n",
    "# As hash is collision resistant, by adding an extra letter we still obtain two collision resistant functions\n",
    "# Which has an universal distribution\n",
    "def h0(m):\n",
    "    return hash(str(m) + \"0\")\n",
    "\n",
    "# n represents amount of times on needs to apply H1 function \n",
    "def h1(m, n = 1):\n",
    "    m_hash = hash(str(m) + \"1\")\n",
    "    \n",
    "    if n == 1:\n",
    "         return m_hash\n",
    "        \n",
    "    return h1(m_hash, n - 1)\n",
    "    "
   ]
  },
  {
   "cell_type": "code",
   "execution_count": null,
   "id": "51ae0a0b",
   "metadata": {},
   "outputs": [],
   "source": []
  },
  {
   "cell_type": "markdown",
   "id": "2cac9192",
   "metadata": {},
   "source": [
    "### Setup"
   ]
  },
  {
   "cell_type": "code",
   "execution_count": 180,
   "id": "c2cd995f",
   "metadata": {},
   "outputs": [],
   "source": [
    "class Gov:\n",
    "    # Create a public / private key pair with RSA\n",
    "    def __init__(self):\n",
    "        while (1):\n",
    "            self.prk = lambR.random_element()\n",
    "            if (gcd(self.prk, lamb) == 1):\n",
    "                break\n",
    "                \n",
    "        self.pbk = ~self.prk\n",
    "        \n",
    "        # Max year supported for the verification. \n",
    "        # This is universal for all poeple without regard to their age\n",
    "        # After the year passes all proofs will stop working\n",
    "        self.max_year = self.get_max_year() # We expect this service to run for max 480 years\n",
    "        \n",
    "    \n",
    "    # Generate a commitment for a person that they were born on that year\n",
    "    # Please note that we can create such commitment at any point of time\n",
    "    def new_comm(self, year):\n",
    "        seed = random.randint(0, 2 ^ 128)\n",
    "        base_hash = h0(seed)\n",
    "        k = self.max_year - year\n",
    "        \n",
    "        final_hash = h1(base_hash, k)\n",
    "        \n",
    "        return base_hash, self.sign(final_hash),\n",
    "        \n",
    "    def sign(self, m):\n",
    "        return nR(hash(m)) ** self.prk\n",
    "    \n",
    "    @staticmethod\n",
    "    def get_max_year():\n",
    "        return 2500\n",
    "\n",
    "    \n",
    "    def get_pbk(self):\n",
    "        return self.pbk"
   ]
  },
  {
   "cell_type": "code",
   "execution_count": 181,
   "id": "51b0b53f",
   "metadata": {},
   "outputs": [],
   "source": [
    "class Alice:\n",
    "    \n",
    "    # This is done during Alice birth \n",
    "    # Alice gets assigned \n",
    "    def __init__(self, gov, birth_year):\n",
    "        \n",
    "        self.birth_year = birth_year\n",
    "        self.base_hash, self.final_sgn = gov.new_comm(birth_year)\n",
    "        \n",
    "        \n",
    "    def gen_age_proof(self, age_to_prove):\n",
    "        # Minimum birth year for anyone to be at least that age\n",
    "        persons_age = cur_year - self.birth_year\n",
    "        # How much older is the person compare to the minimum required age\n",
    "        diff = persons_age - age_to_prove\n",
    "        return h1(self.base_hash, diff), self.final_sgn      "
   ]
  },
  {
   "cell_type": "code",
   "execution_count": 182,
   "id": "e43df1fa",
   "metadata": {},
   "outputs": [],
   "source": [
    "class Carol:\n",
    "    @staticmethod\n",
    "    def check_sgn(pbk, m, sgn):\n",
    "        assert(nR(hash(m)) == sgn ** pbk)\n",
    "    \n",
    "    \n",
    "    @classmethod\n",
    "    def check_age(cls, age_proof, sgn, required_age, gov_pbk):\n",
    "        m = h1(age_proof, Gov.get_max_year() - (cur_year - required_age))\n",
    "        cls.check_sgn(gov_pbk, m, sgn)"
   ]
  },
  {
   "cell_type": "code",
   "execution_count": 183,
   "id": "0d7bb2a2",
   "metadata": {},
   "outputs": [],
   "source": [
    "cur_year = 2022\n"
   ]
  },
  {
   "cell_type": "code",
   "execution_count": 184,
   "id": "ecf3815d",
   "metadata": {},
   "outputs": [],
   "source": [
    "gov = Gov()\n",
    "pbk = gov.get_pbk()"
   ]
  },
  {
   "cell_type": "code",
   "execution_count": 185,
   "id": "d4386eed",
   "metadata": {
    "scrolled": true
   },
   "outputs": [],
   "source": [
    "alice = Alice(gov, 1999)"
   ]
  },
  {
   "cell_type": "code",
   "execution_count": 186,
   "id": "0d2aab94",
   "metadata": {},
   "outputs": [],
   "source": [
    "required_age = 18\n",
    "proof, sgn = alice.gen_age_proof(required_age)\n",
    "Carol.check_age(proof, sgn, required_age, pbk)"
   ]
  },
  {
   "cell_type": "markdown",
   "id": "c7fa2928",
   "metadata": {},
   "source": [
    "Obvious attack vector is for Alice to steal someones else base_hash and signature and thus prove that she is of suitable age. This could be prevented by verifying photo ID or other means.\n",
    "\n",
    "Key idea here is that we are prooving the minimum age of a person, without revealing the exact age to Carol. This is done by providing proof for which the verification does not depend on the age of the participant but rather only on the minimum age allowed."
   ]
  },
  {
   "cell_type": "markdown",
   "id": "d1157fbe",
   "metadata": {},
   "source": [
    "Addtional issue is that to generate and verify the proof we need to do k computations of hashes, where k is the range of allowed values."
   ]
  },
  {
   "cell_type": "markdown",
   "id": "e09180fa",
   "metadata": {},
   "source": [
    "### Proove that number from range [p, q] is within [n, m]"
   ]
  },
  {
   "cell_type": "code",
   "execution_count": 243,
   "id": "5d45cf0f",
   "metadata": {},
   "outputs": [],
   "source": [
    "p = -100\n",
    "q = 100"
   ]
  },
  {
   "cell_type": "code",
   "execution_count": 284,
   "id": "fe6c379c",
   "metadata": {},
   "outputs": [],
   "source": [
    "class Authority:\n",
    "    # Create a public / private key pair with RSA\n",
    "    def __init__(self):\n",
    "        while (1):\n",
    "            self.prk = lambR.random_element()\n",
    "            if (gcd(self.prk, lamb) == 1):\n",
    "                break\n",
    "                \n",
    "        self.pbk = ~self.prk\n",
    "        \n",
    "    \n",
    "    # Generate a commitment for a point from two sides \n",
    "    def new_comm(self, point):\n",
    "        \n",
    "        # The right way would be to generate a commitment with different seed for each side\n",
    "        seed = random.randint(0, 2 ^ 128)\n",
    "        base_hash = h0(seed)\n",
    "        \n",
    "        final_hash_l = h1(base_hash + 12, point - p) \n",
    "        final_hash_r = h1(base_hash + 32, q - point)\n",
    "        \n",
    "        return base_hash, (self.sign(final_hash_l), self.sign(final_hash_r))\n",
    "        \n",
    "    def sign(self, m):\n",
    "        return nR(hash(m)) ** self.prk\n",
    "    \n",
    "\n",
    "    \n",
    "    def get_pbk(self):\n",
    "        return self.pbk"
   ]
  },
  {
   "cell_type": "code",
   "execution_count": 285,
   "id": "0fa68971",
   "metadata": {},
   "outputs": [],
   "source": [
    "class Alice:\n",
    "    \n",
    "    def __init__(self, authority, point):\n",
    "        \n",
    "        self.point = point\n",
    "        self.base_hash, self.final_sgn = authority.new_comm(point)\n",
    "        \n",
    "        \n",
    "    def gen_bound_proof(self, bounds_to_prove):\n",
    "        n, m = bounds_to_prove\n",
    "        \n",
    "        l_proove = h1(self.base_hash + 12, self.point - n)\n",
    "        r_proove = h1(self.base_hash + 32, m - self.point)\n",
    "        return (l_proove, r_proove), self.final_sgn "
   ]
  },
  {
   "cell_type": "code",
   "execution_count": 286,
   "id": "319bc2a4",
   "metadata": {},
   "outputs": [],
   "source": [
    "class Bob:\n",
    "    @staticmethod\n",
    "    def check_sgn(pbk, m, sgn):\n",
    "        assert(nR(hash(m)) == sgn ** pbk)\n",
    "    \n",
    "    \n",
    "    @classmethod\n",
    "    def check_proof(cls, bounds_proof, sgn, bounds, auth_pbk):\n",
    "        n, m = bounds\n",
    "\n",
    "        m_l = h1(bounds_proof[0], n - p)\n",
    "        m_r = h1(bounds_proof[1], q - m)\n",
    "        \n",
    "        \n",
    "        cls.check_sgn(auth_pbk, m_l, sgn[0])\n",
    "        cls.check_sgn(auth_pbk, m_r, sgn[1])\n",
    "\n",
    "\n"
   ]
  },
  {
   "cell_type": "code",
   "execution_count": 287,
   "id": "495c2e4c",
   "metadata": {},
   "outputs": [],
   "source": [
    "point = 4"
   ]
  },
  {
   "cell_type": "code",
   "execution_count": 288,
   "id": "f502cc67",
   "metadata": {},
   "outputs": [
    {
     "name": "stdout",
     "output_type": "stream",
     "text": [
      "68520129217206913941947985549598382454743628632234308724489396662548981749129 7449406650852220865543587337789747210116871910736751713452792382726813760501\n",
      "95653899511805700557570316767692772521842754956888427024184978927165736183497\n"
     ]
    }
   ],
   "source": [
    "auth = Authority()\n",
    "alice = Alice(auth, point)"
   ]
  },
  {
   "cell_type": "code",
   "execution_count": 289,
   "id": "522f6e27",
   "metadata": {
    "scrolled": true
   },
   "outputs": [],
   "source": [
    "bounds = (-20, 7)\n",
    "proof, sgn = alice.gen_bound_proof(bounds)"
   ]
  },
  {
   "cell_type": "code",
   "execution_count": 290,
   "id": "7945ab89",
   "metadata": {},
   "outputs": [
    {
     "name": "stdout",
     "output_type": "stream",
     "text": [
      "68520129217206913941947985549598382454743628632234308724489396662548981749129\n"
     ]
    }
   ],
   "source": [
    "Bob.check_proof(proof, sgn, bounds, auth.get_pbk())"
   ]
  },
  {
   "cell_type": "code",
   "execution_count": null,
   "id": "f2ed37dc",
   "metadata": {},
   "outputs": [],
   "source": []
  }
 ],
 "metadata": {
  "kernelspec": {
   "display_name": "SageMath 9.6",
   "language": "sage",
   "name": "sagemath-9.6"
  },
  "language_info": {
   "codemirror_mode": {
    "name": "ipython",
    "version": 3
   },
   "file_extension": ".py",
   "mimetype": "text/x-python",
   "name": "python",
   "nbconvert_exporter": "python",
   "pygments_lexer": "ipython3",
   "version": "3.10.3"
  }
 },
 "nbformat": 4,
 "nbformat_minor": 5
}
