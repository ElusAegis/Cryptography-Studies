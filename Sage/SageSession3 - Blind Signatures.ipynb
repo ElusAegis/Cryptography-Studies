{
 "cells": [
  {
   "cell_type": "code",
   "execution_count": 11,
   "id": "37981265",
   "metadata": {},
   "outputs": [],
   "source": [
    "from hashlib import sha256"
   ]
  },
  {
   "cell_type": "code",
   "execution_count": 12,
   "id": "332bee8a",
   "metadata": {},
   "outputs": [],
   "source": [
    "def hash(m):\n",
    "    hex_hash = sha256(str(m).encode(\"utf-8\")).hexdigest()\n",
    "    return int(hex_hash, 16)"
   ]
  },
  {
   "cell_type": "code",
   "execution_count": 13,
   "id": "fcd62e11",
   "metadata": {},
   "outputs": [],
   "source": [
    "class Signer:\n",
    "    def __init__(self, F, g):\n",
    "        self.F = F # Z_p\n",
    "        self.g = g # elliptic curve generator\n",
    "        \n",
    "        self.pk = F.random_element()\n",
    "        self.pubk = self.pk * g\n",
    "        \n",
    "    def get_pubk(self):\n",
    "        return self.pubk\n",
    "    \n",
    "    def initiate_blind_signing(self):\n",
    "        self.k = F.random_element()\n",
    "        R_prime = self.k * self.g\n",
    "        return R_prime\n",
    "    \n",
    "    def blind_sign(self, blind_message):\n",
    "        return self.pk * blind_message + self.k"
   ]
  },
  {
   "cell_type": "code",
   "execution_count": 14,
   "id": "9c5119a0",
   "metadata": {},
   "outputs": [],
   "source": [
    "class User:\n",
    "    def __init__(self, F, g):\n",
    "        self.F = F # Z_p\n",
    "        self.g = g # elliptic curve generator\n",
    "        \n",
    "        \n",
    "    def blind_message(self, message, R_prime):\n",
    "        \n",
    "        # Generate some random values for blinding \n",
    "        self.a = F.random_element()\n",
    "        self.b = F.random_element()\n",
    "        \n",
    "        # Calculate blinding factor using R_prime provided by signer \n",
    "        # Equal to (a * k + b) * g\n",
    "        self.blinding_factor = self.a * R_prime + self.b * self.g\n",
    "        blinding_factor_x = F(self.blinding_factor[0])\n",
    "        \n",
    "        # Calculate message hash \n",
    "        # We use the order of the field we are working in as the modulus for the hash\n",
    "        m_hash = self.F(hash(message))\n",
    "        \n",
    "        # 1 = ~a * a\n",
    "        blinded_message = (~self.a) * blinding_factor_x * m_hash\n",
    "        return blinded_message\n",
    "        \n",
    "    def unblind_signature(self, blind_signature):\n",
    "        return (self.blinding_factor, blind_signature * self.a + self.b)    "
   ]
  },
  {
   "cell_type": "code",
   "execution_count": 22,
   "id": "c81850e9",
   "metadata": {},
   "outputs": [],
   "source": [
    "class Verifier:\n",
    "    def __init__(self, F, g):\n",
    "        self.F = F # Z_p\n",
    "        self.g = g # elliptic curve generator\n",
    "        \n",
    "        \n",
    "    def verify(self, message, signature, signer_pub_key):\n",
    "        (blinding_factor, s) = signature\n",
    "                \n",
    "        return s * g == blinding_factor + F(blinding_factor[0]) * F(hash(message)) * signer_pub_key"
   ]
  },
  {
   "cell_type": "code",
   "execution_count": 2,
   "id": "cfa101f9",
   "metadata": {},
   "outputs": [],
   "source": [
    "# Ethereum elliptic curve\n",
    "p = 0xFFFFFFFFFFFFFFFFFFFFFFFFFFFFFFFFFFFFFFFFFFFFFFFFFFFFFFFEFFFFFC2F\n",
    "a = 0\n",
    "b = 7\n",
    "Fp = GF(p)\n",
    "E = EllipticCurve(Fp, [a,b])\n",
    "GX = 0x79BE667EF9DCBBAC55A06295CE870B07029BFCDB2DCE28D959F2815B16F81798\n",
    "GY = 0x483ADA7726A3C4655DA4FBFC0E1108A8FD17B448A68554199C47D08FFB10D4B8\n",
    "g = E(GX,GY)\n",
    "F = GF(g.order())"
   ]
  },
  {
   "cell_type": "code",
   "execution_count": 10,
   "id": "ac036628",
   "metadata": {},
   "outputs": [
    {
     "data": {
      "text/plain": [
       "4.3242038656565966e+38"
      ]
     },
     "execution_count": 10,
     "metadata": {},
     "output_type": "execute_result"
    }
   ],
   "source": [
    "float(p - g.order())"
   ]
  },
  {
   "cell_type": "code",
   "execution_count": 24,
   "id": "513aee9d",
   "metadata": {},
   "outputs": [
    {
     "name": "stdout",
     "output_type": "stream",
     "text": [
      "Alice PubK is: {} (108369852679600291225475973392280217393785341341256811480663505636778071006345 : 44533451297094849474866514314387423381878653175108865776515241860764910720964 : 1)\n"
     ]
    }
   ],
   "source": [
    "alice = Signer(F, g)\n",
    "alice_pubk = alice.get_pubk()\n",
    "print(\"Alice PubK is: {}\", alice_pubk)"
   ]
  },
  {
   "cell_type": "code",
   "execution_count": 25,
   "id": "dc9ac5bc",
   "metadata": {},
   "outputs": [],
   "source": [
    "bob = User(F, g)\n",
    "message = \"noone knows who I am\""
   ]
  },
  {
   "cell_type": "code",
   "execution_count": 26,
   "id": "6af3aeeb",
   "metadata": {},
   "outputs": [],
   "source": [
    "charly = Verifier(F, g)"
   ]
  },
  {
   "cell_type": "code",
   "execution_count": 27,
   "id": "c0ed3e5e",
   "metadata": {},
   "outputs": [],
   "source": [
    "# Alice provide randomness to blind the message\n",
    "R_prime = alice.initiate_blind_signing()\n",
    "# Bob blinds the message for signing \n",
    "blinded_message = bob.blind_message(message, R_prime)\n",
    "# Alice signs the blinided message she can not read\n",
    "blinded_signature = alice.blind_sign(blinded_message)\n",
    "# Bob unblinds the signature\n",
    "unblinded_signature = bob.unblind_signature(blinded_signature)"
   ]
  },
  {
   "cell_type": "code",
   "execution_count": 28,
   "id": "d7aa28f5",
   "metadata": {},
   "outputs": [
    {
     "data": {
      "text/plain": [
       "True"
      ]
     },
     "execution_count": 28,
     "metadata": {},
     "output_type": "execute_result"
    }
   ],
   "source": [
    "# Bob proves to Charly that Alice signed over his message\n",
    "charly.verify(message, unblinded_signature, alice_pubk)"
   ]
  }
 ],
 "metadata": {
  "kernelspec": {
   "display_name": "SageMath 9.6",
   "language": "sage",
   "name": "sagemath-9.6"
  },
  "language_info": {
   "codemirror_mode": {
    "name": "ipython",
    "version": 3
   },
   "file_extension": ".py",
   "mimetype": "text/x-python",
   "name": "python",
   "nbconvert_exporter": "python",
   "pygments_lexer": "ipython3",
   "version": "3.10.3"
  }
 },
 "nbformat": 4,
 "nbformat_minor": 5
}
