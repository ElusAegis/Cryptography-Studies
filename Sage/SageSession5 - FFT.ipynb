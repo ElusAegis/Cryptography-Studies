{
 "cells": [
  {
   "cell_type": "markdown",
   "id": "0646ea78",
   "metadata": {},
   "source": [
    "## Roots of Unity"
   ]
  },
  {
   "cell_type": "code",
   "execution_count": 154,
   "id": "06e6da39",
   "metadata": {},
   "outputs": [],
   "source": [
    "def get_primitive_root_of_unity(F, n):\n",
    "    \n",
    "    # To check that candidate root is a primitive root we need to verify that:\n",
    "    # For any a | n, candidate ^ a != 1\n",
    "    # This is equivelent to:\n",
    "    # For a, b: a * b = n, candidate ^ a != 1 and candidate ^ b != 1\n",
    "    #\n",
    "    # Therefor we will look for a first a | n, and then evaluate:\n",
    "    # candidate ^ a != 1 and candidate ^ (n / a) != 1\n",
    "    # If the checks pass, this is the primitive root\n",
    "\n",
    "    # For power we assume to use quick power in O(log(n))\n",
    "    # Here we assume to use number sieve algorythm \n",
    "    # And we look for a devider of n\n",
    "    divider = n\n",
    "    for i in range(2, n):\n",
    "        if n % i == 0:\n",
    "            divider = i\n",
    "\n",
    "    \n",
    "    \n",
    "    # Get order of field F\n",
    "    p = F.order()\n",
    "    \n",
    "    while True:\n",
    "        \n",
    "        # Generate a random x until we find primitive root\n",
    "        x = F.random_element()\n",
    "        \n",
    "        # Root as: candidate ^ n = (x ^ ((p - 1) / n)) ^ n = x ^ (p - 1) = 1\n",
    "        candidate = x ^ ((p - 1) / n)\n",
    "        \n",
    "        # We need to check if it is primitive\n",
    "        if candidate == 1:\n",
    "            continue\n",
    "            \n",
    "        \n",
    "        # If n is prime, then any root is primitive\n",
    "        if divider == n:\n",
    "            return candidate\n",
    "        \n",
    "        if candidate ^ divider != 1 and candidate ^ (n / divider) != 1:\n",
    "            return candidate"
   ]
  },
  {
   "cell_type": "code",
   "execution_count": 181,
   "id": "7243c920",
   "metadata": {},
   "outputs": [],
   "source": [
    "def get_nth_roots_of_unity(n, primitive_w):\n",
    "    \n",
    "    # We assume to have primitive root of unity \n",
    "    # To get the other n - 1 roots we just exponenciate the root:\n",
    "    \n",
    "    w_arr = [1]\n",
    "    \n",
    "    cur_w = 1\n",
    "    for i in range(n - 1):\n",
    "        cur_w *= primitive_w\n",
    "        w_arr += [cur_w]\n",
    "        \n",
    "    return w_arr\n",
    "        "
   ]
  },
  {
   "cell_type": "code",
   "execution_count": 182,
   "id": "33b459ff",
   "metadata": {},
   "outputs": [],
   "source": [
    "q = 41\n",
    "F = GF(q)\n",
    "n = 4"
   ]
  },
  {
   "cell_type": "code",
   "execution_count": 183,
   "id": "05ad8b09",
   "metadata": {},
   "outputs": [
    {
     "name": "stdout",
     "output_type": "stream",
     "text": [
      "primitive_w: 32\n"
     ]
    }
   ],
   "source": [
    "primitive_w = get_primitive_root_of_unity(F, n)\n",
    "print(\"primitive_w:\", primitive_w)"
   ]
  },
  {
   "cell_type": "code",
   "execution_count": 184,
   "id": "4a03d1c7",
   "metadata": {},
   "outputs": [
    {
     "name": "stdout",
     "output_type": "stream",
     "text": [
      "4th roots of unity: [1, 32, 40, 9]\n"
     ]
    }
   ],
   "source": [
    "w_arr = get_nth_roots_of_unity(n, primitive_w)\n",
    "print(f\"{n}th roots of unity: {w_arr}\")"
   ]
  },
  {
   "cell_type": "markdown",
   "id": "39adadd4",
   "metadata": {},
   "source": [
    "## Fast Fourier Transform"
   ]
  },
  {
   "cell_type": "code",
   "execution_count": 185,
   "id": "290ab7ce",
   "metadata": {},
   "outputs": [],
   "source": [
    "w = get_primitive_root_of_unity(F, n)"
   ]
  },
  {
   "cell_type": "code",
   "execution_count": 205,
   "id": "60ca7570",
   "metadata": {},
   "outputs": [],
   "source": [
    "def ft_setup(n, w):\n",
    "    \n",
    "    w_arr = get_nth_roots_of_unity(n, w)\n",
    "\n",
    "    \n",
    "    acc = [1 for i in range(n)]\n",
    "    matrix_elms = [acc]\n",
    "    \n",
    "    for i in range(n - 1):\n",
    "        acc = [acc[i] * w_arr[i] for i in range(n)]\n",
    "        matrix_elms += [acc]\n",
    "        \n",
    "    F = matrix(matrix_elms)\n",
    "    \n",
    "    w_inv = ~w\n",
    "    w_inv_arr = get_nth_roots_of_unity(n, w_inv)\n",
    "    \n",
    "    acc = [1 for i in range(n)]\n",
    "    inv_matrix_elms = [acc]\n",
    "    \n",
    "    for i in range(n - 1):\n",
    "        acc = [acc[i] * w_inv_arr[i] for i in range(n)]\n",
    "        inv_matrix_elms += [acc]\n",
    "        \n",
    "        \n",
    "    G = matrix(inv_matrix_elms) / n\n",
    "    assert(G == ~F * n, \"Failed in calculating F matrix inverse.\")\n",
    "    \n",
    "    return w_arr, F, G"
   ]
  },
  {
   "cell_type": "code",
   "execution_count": 206,
   "id": "67c9eba3",
   "metadata": {},
   "outputs": [],
   "source": [
    "w_arr, FT, IFT = ft_setup(n, w)"
   ]
  },
  {
   "cell_type": "code",
   "execution_count": 207,
   "id": "01c4925d",
   "metadata": {},
   "outputs": [
    {
     "name": "stdout",
     "output_type": "stream",
     "text": [
      "nth roots of unity: [1, 9, 40, 32]\n",
      "Vandermonde matrix:\n",
      "[ 1  1  1  1]\n",
      "[ 1  9 40 32]\n",
      "[ 1 40  1 40]\n",
      "[ 1 32 40  9]\n",
      "Inverse Vandermonde matrix:\n",
      "[31 31 31 31]\n",
      "[31  8 10 33]\n",
      "[31 10 31 10]\n",
      "[31 33 10  8]\n"
     ]
    }
   ],
   "source": [
    "print(\"nth roots of unity:\", w_arr)\n",
    "print(\"Vandermonde matrix:\")\n",
    "print(FT)\n",
    "print(\"Inverse Vandermonde matrix:\")\n",
    "print(IFT)"
   ]
  },
  {
   "cell_type": "code",
   "execution_count": 208,
   "id": "10d00f3b",
   "metadata": {},
   "outputs": [],
   "source": [
    "def ft(fa_coef, w):\n",
    "    \n",
    "    n = len(fa_coef)\n",
    "    \n",
    "    w_arr = get_nth_roots_of_unity(n, w)\n",
    "\n",
    "    \n",
    "    acc = [1 for i in range(n)]\n",
    "    matrix_elms = [acc]\n",
    "    \n",
    "    for i in range(n - 1):\n",
    "        acc = [acc[i] * w_arr[i] for i in range(n)]\n",
    "        matrix_elms += [acc]\n",
    "        \n",
    "    F = matrix(matrix_elms)\n",
    "        \n",
    "    return F * fa_coef\n",
    "\n",
    "\n",
    "def ft_inv(fa_eval, w):\n",
    "    \n",
    "    n = len(fa_eval)\n",
    "    \n",
    "    # We do matrix inversion manually to save computation \n",
    "    # As well as because the formula of the inverse is availble\n",
    "    w_inv = ~w\n",
    "    w_inv_arr = get_nth_roots_of_unity(n, w_inv)\n",
    "    \n",
    "    acc = [1 for i in range(n)]\n",
    "    inv_matrix_elms = [acc]\n",
    "    \n",
    "    for i in range(n - 1):\n",
    "        acc = [acc[i] * w_inv_arr[i] for i in range(n)]\n",
    "        inv_matrix_elms += [acc]\n",
    "        \n",
    "        \n",
    "    G = matrix(inv_matrix_elms) / n\n",
    "    \n",
    "        \n",
    "    return G * fa_eval"
   ]
  },
  {
   "cell_type": "code",
   "execution_count": 209,
   "id": "11983c2d",
   "metadata": {},
   "outputs": [
    {
     "name": "stdout",
     "output_type": "stream",
     "text": [
      "fa_eval: (9, 4, 5, 9)\n"
     ]
    }
   ],
   "source": [
    "# We define a polynomial by its evaluations:\n",
    "fa_eval = vector([9,4,5,9])\n",
    "print(\"fa_eval:\", fa_eval)"
   ]
  },
  {
   "cell_type": "code",
   "execution_count": 210,
   "id": "939cbb61",
   "metadata": {},
   "outputs": [],
   "source": [
    "# we can interpolate it to the coefficients of f_a(x) by\n",
    "# multiplying it by ft_inv:\n",
    "fa_coef = ft_inv(fa_eval, w)"
   ]
  },
  {
   "cell_type": "code",
   "execution_count": 211,
   "id": "003446f5",
   "metadata": {},
   "outputs": [
    {
     "name": "stdout",
     "output_type": "stream",
     "text": [
      "f_a(x): 31*x^2 + 2*x + 17\n"
     ]
    }
   ],
   "source": [
    "# we can now create a polynomial from fa coefficients:\n",
    "P.<x> = PolynomialRing(F)\n",
    "fa = P(list(fa_coef))\n",
    "# and if we print fa we get: 19*x^3 + 9*x^2 + 21*x + 36\n",
    "print(\"f_a(x):\", fa)"
   ]
  },
  {
   "cell_type": "code",
   "execution_count": 212,
   "id": "7692f3d7",
   "metadata": {},
   "outputs": [
    {
     "name": "stdout",
     "output_type": "stream",
     "text": [
      "Interpolated polynomial evaluation check passed.\n"
     ]
    }
   ],
   "source": [
    "# we can check that evaluating fa(x) at the roots of\n",
    "# unity returns the expected values of a\n",
    "for i in range(len(fa_eval)):\n",
    "    assert fa(w_arr[i]) == fa_eval[i]\n",
    "print(\"Interpolated polynomial evaluation check passed.\")"
   ]
  },
  {
   "cell_type": "code",
   "execution_count": 213,
   "id": "f7b5a497",
   "metadata": {},
   "outputs": [],
   "source": [
    "# We can also go in the opposite direction: from coefficient form\n",
    "# to evaluation form (from fa(x) to fa_eval):\n",
    "fa_eval_rec = ft(fa_coef, w)"
   ]
  },
  {
   "cell_type": "code",
   "execution_count": 214,
   "id": "39eccd37",
   "metadata": {},
   "outputs": [
    {
     "name": "stdout",
     "output_type": "stream",
     "text": [
      "Interpolated polynomial coeficient check passed.\n"
     ]
    }
   ],
   "source": [
    "# and it should get us to the same values than our original fa_eval vector:\n",
    "assert fa_eval == fa_eval_rec\n",
    "print(\"Interpolated polynomial coeficient check passed.\")"
   ]
  },
  {
   "cell_type": "code",
   "execution_count": 280,
   "id": "da30b85f",
   "metadata": {},
   "outputs": [],
   "source": [
    "def fft(coef, w):\n",
    "    \n",
    "    n = len(coef)\n",
    "    \n",
    "    if n == 1:\n",
    "        return vector(coef)\n",
    "    \n",
    "    if n == 2:\n",
    "        return vector([coef[0] + coef[1], coef[0] - coef[1]])\n",
    "    \n",
    "    if n % 2 == 0:\n",
    "        odd_coef = coef[1::2]\n",
    "        even_coef = coef[0::2]\n",
    "        \n",
    "        odd_ev = fft(odd_coef, w ^ 2)\n",
    "        even_ev = fft(even_coef, w ^ 2)\n",
    "        \n",
    "        w_parr = vector(get_nth_roots_of_unity(n / 2, w))\n",
    "        \n",
    "        w_kd2 = w_parr[-1] * w\n",
    "        \n",
    "        p_one = even_ev + w_parr.pairwise_product(odd_ev)\n",
    "        p_two = even_ev + (vector(w_parr) * w_kd2).pairwise_product(odd_ev)\n",
    "        \n",
    "        return vector(list(p_one) + list(p_two))\n",
    "    \n",
    "    if n % 2 != 0:\n",
    "        \n",
    "        return vector(ft(coef, w))\n",
    "    \n",
    "def fft_inv(coef, w):\n",
    "    \n",
    "    # HOW TO IMPLEMENT\n",
    "    \n",
    "#     n = len(coef)\n",
    "    \n",
    "#     if n == 1:\n",
    "#         return vector(coef)\n",
    "    \n",
    "#     if n == 2:\n",
    "#         return vector([coef[0] + coef[1], coef[0] - coef[1]])\n",
    "    \n",
    "#     if n % 2 == 0:\n",
    "#         odd_coef = coef[1::2]\n",
    "#         even_coef = coef[0::2]\n",
    "        \n",
    "#         odd_ev = fft(odd_coef, w ^ 2)\n",
    "#         even_ev = fft(even_coef, w ^ 2)\n",
    "        \n",
    "#         w_parr = vector(get_nth_roots_of_unity(n / 2, ~w))\n",
    "        \n",
    "#         w_kd2 = w_parr[-1] * (~w)\n",
    "        \n",
    "#         p_one = even_ev - w_parr.pairwise_product(odd_ev)\n",
    "#         p_two = even_ev - (vector(w_parr) * w_kd2).pairwise_product(odd_ev)\n",
    "        \n",
    "#         return vector(list(p_one) + list(p_two))\n",
    "    \n",
    "#     if n % 2 != 0:\n",
    "        \n",
    "#         return vector(ft(coef, w))"
   ]
  },
  {
   "cell_type": "code",
   "execution_count": 281,
   "id": "46368c10",
   "metadata": {},
   "outputs": [
    {
     "data": {
      "text/plain": [
       "(17, 2, 31, 0)"
      ]
     },
     "execution_count": 281,
     "metadata": {},
     "output_type": "execute_result"
    }
   ],
   "source": [
    "fa_coef"
   ]
  },
  {
   "cell_type": "code",
   "execution_count": 282,
   "id": "dd956da9",
   "metadata": {
    "scrolled": true
   },
   "outputs": [
    {
     "data": {
      "text/plain": [
       "(1, 0, 27, 8)"
      ]
     },
     "execution_count": 282,
     "metadata": {},
     "output_type": "execute_result"
    }
   ],
   "source": [
    "fft_inv(fft(fa_coef, w), w)"
   ]
  },
  {
   "cell_type": "code",
   "execution_count": 253,
   "id": "ce78e6c2",
   "metadata": {},
   "outputs": [
    {
     "data": {
      "text/plain": [
       "(9, 4, 5, 9)"
      ]
     },
     "execution_count": 253,
     "metadata": {},
     "output_type": "execute_result"
    }
   ],
   "source": [
    "fa_eval"
   ]
  },
  {
   "cell_type": "code",
   "execution_count": 243,
   "id": "5c9d52f7",
   "metadata": {},
   "outputs": [
    {
     "data": {
      "text/plain": [
       "[2, 4]"
      ]
     },
     "execution_count": 243,
     "metadata": {},
     "output_type": "execute_result"
    }
   ],
   "source": [
    "a = [1, 2, 3, 4]\n",
    "a_e = a[1::2]\n",
    "a_e"
   ]
  },
  {
   "cell_type": "code",
   "execution_count": 131,
   "id": "4244a028",
   "metadata": {},
   "outputs": [
    {
     "data": {
      "text/plain": [
       "[1, 9]"
      ]
     },
     "execution_count": 131,
     "metadata": {},
     "output_type": "execute_result"
    }
   ],
   "source": [
    "get_nth_roots_of_unity(2, primitive_w)"
   ]
  },
  {
   "cell_type": "code",
   "execution_count": null,
   "id": "2fdc0413",
   "metadata": {},
   "outputs": [],
   "source": []
  }
 ],
 "metadata": {
  "kernelspec": {
   "display_name": "SageMath 9.6",
   "language": "sage",
   "name": "sagemath-9.6"
  },
  "language_info": {
   "codemirror_mode": {
    "name": "ipython",
    "version": 3
   },
   "file_extension": ".py",
   "mimetype": "text/x-python",
   "name": "python",
   "nbconvert_exporter": "python",
   "pygments_lexer": "ipython3",
   "version": "3.10.3"
  }
 },
 "nbformat": 4,
 "nbformat_minor": 5
}
