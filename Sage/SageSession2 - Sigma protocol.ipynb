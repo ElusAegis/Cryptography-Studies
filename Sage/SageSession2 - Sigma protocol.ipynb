{
 "cells": [
  {
   "cell_type": "code",
   "execution_count": 11,
   "id": "30b3e32d",
   "metadata": {},
   "outputs": [],
   "source": [
    "class Prover(object):\n",
    "    def __init__(self, F, g):\n",
    "        self.F = F # Z_p\n",
    "        self.g = g # elliptic curve generator\n",
    "\n",
    "    def new_key(self):\n",
    "        self.w = self.F.random_element() # private key\n",
    "        X = self.g * self.w # public key\n",
    "        return X\n",
    "    \n",
    "    def get_random(self):\n",
    "        self.r = self.F.random_element() # randomness\n",
    "        t = self.g * self.r # commitment \n",
    "        return t\n",
    "        \n",
    "    def gen_proof(self, c):\n",
    "        z = self.r + c * self.w\n",
    "        return z"
   ]
  },
  {
   "cell_type": "code",
   "execution_count": 21,
   "id": "88d3fca4",
   "metadata": {},
   "outputs": [],
   "source": [
    "class Verifier(object):\n",
    "    def __init__(self, F, g):\n",
    "        self.F = F # Z_p\n",
    "        self.g = g # elliptic curve generator\n",
    "        \n",
    "    def new_challenge(self):\n",
    "        c = self.F.random_element()\n",
    "        return c\n",
    "    \n",
    "    def verify(self, z, t, c, pubK):\n",
    "        return self.g * z == t + (pubK * c)"
   ]
  },
  {
   "cell_type": "code",
   "execution_count": 22,
   "id": "4ef4e681",
   "metadata": {},
   "outputs": [],
   "source": [
    "# Ethereum elliptic curve\n",
    "p = 0xFFFFFFFFFFFFFFFFFFFFFFFFFFFFFFFFFFFFFFFFFFFFFFFFFFFFFFFEFFFFFC2F\n",
    "a = 0\n",
    "b = 7\n",
    "F = GF(p)\n",
    "E = EllipticCurve(F, [a,b])\n",
    "GX = 0x79BE667EF9DCBBAC55A06295CE870B07029BFCDB2DCE28D959F2815B16F81798\n",
    "GY = 0x483ADA7726A3C4655DA4FBFC0E1108A8FD17B448A68554199C47D08FFB10D4B8\n",
    "g = E(GX,GY)\n",
    "n = 0xFFFFFFFFFFFFFFFFFFFFFFFFFFFFFFFEBAAEDCE6AF48A03BBFD25E8CD0364141\n",
    "h = 1\n",
    "q = g.order()\n",
    "\n"
   ]
  },
  {
   "cell_type": "code",
   "execution_count": 23,
   "id": "5daf33a6",
   "metadata": {},
   "outputs": [],
   "source": [
    "Fq = Zmod(q)\n",
    "\n",
    "## the protocol:\n",
    "alice = Prover(Fq, g)\n",
    "pubK = alice.new_key()\n",
    "\n",
    "# We want to prove we know the Pk for the pubK\n",
    "\n",
    "t = alice.get_random()\n",
    "\n",
    "bob = Verifier(Fq, g)\n",
    "c = bob.new_challenge()\n",
    "\n",
    "z = alice.gen_proof(c)\n",
    "\n",
    "\n",
    "\n",
    "assert(bob.verify(z, t, c, pubK))"
   ]
  },
  {
   "cell_type": "code",
   "execution_count": null,
   "id": "3bca1609",
   "metadata": {},
   "outputs": [],
   "source": []
  }
 ],
 "metadata": {
  "kernelspec": {
   "display_name": "SageMath 9.6",
   "language": "sage",
   "name": "sagemath-9.6"
  },
  "language_info": {
   "codemirror_mode": {
    "name": "ipython",
    "version": 3
   },
   "file_extension": ".py",
   "mimetype": "text/x-python",
   "name": "python",
   "nbconvert_exporter": "python",
   "pygments_lexer": "ipython3",
   "version": "3.10.3"
  }
 },
 "nbformat": 4,
 "nbformat_minor": 5
}
