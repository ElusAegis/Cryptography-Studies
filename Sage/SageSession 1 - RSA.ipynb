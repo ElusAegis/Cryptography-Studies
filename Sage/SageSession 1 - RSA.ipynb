{
 "cells": [
  {
   "cell_type": "code",
   "execution_count": 16,
   "id": "623b28b0",
   "metadata": {},
   "outputs": [],
   "source": [
    "import random\n",
    "from hashlib import sha256\n",
    "from sage.crypto.util import carmichael_lambda"
   ]
  },
  {
   "cell_type": "code",
   "execution_count": 17,
   "id": "2aef7cd4",
   "metadata": {},
   "outputs": [],
   "source": [
    "random.seed(100)"
   ]
  },
  {
   "cell_type": "markdown",
   "id": "9ff12152",
   "metadata": {},
   "source": [
    "## Part 1"
   ]
  },
  {
   "cell_type": "code",
   "execution_count": 18,
   "id": "48efb3fb",
   "metadata": {},
   "outputs": [],
   "source": [
    "p = 61\n",
    "q = 53\n",
    "assert is_prime(p)\n",
    "assert is_prime(q)\n",
    "n = p*q"
   ]
  },
  {
   "cell_type": "code",
   "execution_count": 19,
   "id": "cdc7255d",
   "metadata": {},
   "outputs": [],
   "source": [
    "# Carmichael's totient function of the product λ(n) = lcm(p−1, q−1)\n",
    "lamb = 780 # let's assume that we have this already computed for p=61, q=53\n",
    "lamb1 = carmichael_lambda(n)\n",
    "lamb2 = lcm(p - 1, q - 1)\n",
    "assert(lamb1, lamb2)\n",
    "assert(lamb, lamb2)"
   ]
  },
  {
   "cell_type": "code",
   "execution_count": 20,
   "id": "1b9ad6dd",
   "metadata": {},
   "outputs": [],
   "source": [
    "def hash(m):\n",
    "    hex_hash = sha256(str(m).encode(\"utf-8\")).hexdigest()\n",
    "    return int(hex_hash, 16)"
   ]
  },
  {
   "cell_type": "code",
   "execution_count": 21,
   "id": "5486d1fd",
   "metadata": {},
   "outputs": [],
   "source": [
    "# **************\n",
    "# TODO:\n",
    "# Implement the methods:\n",
    "# - new_key\n",
    "#     (you can hardcode the 'e' parameter using the same than\n",
    "#     in the Wikipedia's example (e=17))\n",
    "# - encrypt\n",
    "# - decrypt\n",
    "# **************\n",
    "\n",
    "lambR = IntegerModRing(lamb)\n",
    "nR = IntegerModRing(n)\n",
    "\n",
    "def my_xgcd(n, m):\n",
    "    if n == 0:\n",
    "        return (m, 0, 1) if m >= 0 else (-m, 0, -1)\n",
    "    else:\n",
    "        g, x, y = my_xgcd(m % n, n)\n",
    "        return (g, y - (m // n) * x, x)\n",
    "    \n",
    "def invmod(a, n):\n",
    "    return my_xgcd(a, n)\n",
    "\n",
    "def new_key(n, lamb):\n",
    "    e = 17\n",
    "    d = invmod(e, lamb)[1] % lamb\n",
    "    d1 = lambR(e).inverse_of_unit()\n",
    "    assert (d, d1)\n",
    "    return (e, d)"
   ]
  },
  {
   "cell_type": "code",
   "execution_count": 22,
   "id": "cd2516ff",
   "metadata": {},
   "outputs": [],
   "source": [
    "def encrypt(n, e, m):\n",
    "    acc = 1\n",
    "    for i in range(e):\n",
    "        acc = (acc * m) % n\n",
    "    acc1 = nR(m)**e\n",
    "    assert(acc, acc1)\n",
    "    return acc"
   ]
  },
  {
   "cell_type": "code",
   "execution_count": 23,
   "id": "68cd23c4",
   "metadata": {},
   "outputs": [],
   "source": [
    "def decrypt(n, d, c):\n",
    "    acc = 1\n",
    "    for i in range(d):\n",
    "        acc = (acc * c) % n\n",
    "    acc1 = nR(c)**d\n",
    "    assert(acc, acc1)\n",
    "    return acc"
   ]
  },
  {
   "cell_type": "code",
   "execution_count": 24,
   "id": "0db5e1b2",
   "metadata": {},
   "outputs": [],
   "source": [
    "def sign(n, d,  m):\n",
    "    return nR(hash(m)) ** d"
   ]
  },
  {
   "cell_type": "code",
   "execution_count": 25,
   "id": "579a5529",
   "metadata": {},
   "outputs": [],
   "source": [
    "def check_sign(n, e, m, s):\n",
    "    assert(nR(hash(m)) == s ** e)"
   ]
  },
  {
   "cell_type": "code",
   "execution_count": 26,
   "id": "a61882c7",
   "metadata": {},
   "outputs": [
    {
     "name": "stdout",
     "output_type": "stream",
     "text": [
      "PubK: e: 17\n",
      "PrivK: d: 413\n"
     ]
    }
   ],
   "source": [
    "# generate a new key pair:\n",
    "e, d = new_key(n, lamb)\n",
    "print(\"PubK: e: %s\" % e)\n",
    "print(\"PrivK: d: %s\" % d)"
   ]
  },
  {
   "cell_type": "code",
   "execution_count": 27,
   "id": "c7b5c707",
   "metadata": {},
   "outputs": [],
   "source": [
    "# set message m:\n",
    "m = 65"
   ]
  },
  {
   "cell_type": "code",
   "execution_count": 28,
   "id": "72902c01",
   "metadata": {},
   "outputs": [
    {
     "name": "stdout",
     "output_type": "stream",
     "text": [
      "Encrypted message: 2790\n"
     ]
    }
   ],
   "source": [
    "c = encrypt(n, e, m)\n",
    "print(\"Encrypted message:\", c)"
   ]
  },
  {
   "cell_type": "code",
   "execution_count": 29,
   "id": "92bbe67e",
   "metadata": {},
   "outputs": [
    {
     "name": "stdout",
     "output_type": "stream",
     "text": [
      "Decrypted message: 65\n"
     ]
    }
   ],
   "source": [
    "m2 = decrypt(n, d, c)\n",
    "print(\"Decrypted message:\", m2)"
   ]
  },
  {
   "cell_type": "code",
   "execution_count": 30,
   "id": "1501468e",
   "metadata": {},
   "outputs": [
    {
     "name": "stdout",
     "output_type": "stream",
     "text": [
      "Signature: 2859\n"
     ]
    }
   ],
   "source": [
    "s = sign(n, d, m)\n",
    "print(\"Signature:\", s)"
   ]
  },
  {
   "cell_type": "code",
   "execution_count": 31,
   "id": "798b4eaf",
   "metadata": {},
   "outputs": [],
   "source": [
    "check_sign(n, e, m, s)"
   ]
  },
  {
   "cell_type": "code",
   "execution_count": 32,
   "id": "c331eaf0",
   "metadata": {},
   "outputs": [],
   "source": [
    "# check that the decrypted message (m2) is equal to the original message (m)\n",
    "assert m2 == m"
   ]
  },
  {
   "cell_type": "markdown",
   "id": "be467df8",
   "metadata": {},
   "source": [
    "## Part 2"
   ]
  },
  {
   "cell_type": "code",
   "execution_count": 114,
   "id": "14e30230",
   "metadata": {},
   "outputs": [
    {
     "data": {
      "image/png": "[encoded data removed]",
      "text/plain": [
       "Graphics object consisting of 1 graphics primitive"
      ]
     },
     "execution_count": 114,
     "metadata": {},
     "output_type": "execute_result"
    }
   ],
   "source": [
    "F = FiniteField(17)\n",
    "E = EllipticCurve(F, [0,3])\n",
    "plot = E.plot()\n",
    "e_plot"
   ]
  },
  {
   "cell_type": "code",
   "execution_count": 115,
   "id": "0981dd67",
   "metadata": {},
   "outputs": [
    {
     "name": "stdout",
     "output_type": "stream",
     "text": [
      "Order: 18\n"
     ]
    }
   ],
   "source": [
    "order = E.order()\n",
    "print(\"Order: %s\" % order)"
   ]
  },
  {
   "cell_type": "code",
   "execution_count": 132,
   "id": "c3e14c8a",
   "metadata": {},
   "outputs": [
    {
     "name": "stdout",
     "output_type": "stream",
     "text": [
      "Random point: (4 : 13 : 1)\n"
     ]
    },
    {
     "data": {
      "image/png": "[encoded data removed]",
      "text/plain": [
       "Graphics object consisting of 2 graphics primitives"
      ]
     },
     "execution_count": 132,
     "metadata": {},
     "output_type": "execute_result"
    }
   ],
   "source": [
    "rand_point = E.points()[randint(0, E.order() - 1)]\n",
    "print(\"Random point: %s\" % rand_point)\n",
    "point_plot = list_plot([rand_point.xy()], color='red')\n",
    "e_plot + point_plot "
   ]
  }
 ],
 "metadata": {
  "kernelspec": {
   "display_name": "SageMath 9.6",
   "language": "sage",
   "name": "sagemath-9.6"
  },
  "language_info": {
   "codemirror_mode": {
    "name": "ipython",
    "version": 3
   },
   "file_extension": ".py",
   "mimetype": "text/x-python",
   "name": "python",
   "nbconvert_exporter": "python",
   "pygments_lexer": "ipython3",
   "version": "3.10.3"
  }
 },
 "nbformat": 4,
 "nbformat_minor": 5
}
